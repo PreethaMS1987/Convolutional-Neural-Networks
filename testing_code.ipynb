{
  "nbformat": 4,
  "nbformat_minor": 0,
  "metadata": {
    "colab": {
      "name": "testing_code.ipynb",
      "provenance": [],
      "collapsed_sections": []
    },
    "kernelspec": {
      "name": "python3",
      "display_name": "Python 3"
    },
    "language_info": {
      "name": "python"
    }
  },
  "cells": [
    {
      "cell_type": "code",
      "metadata": {
        "id": "M6eFRz7ycIFC"
      },
      "source": [
        "import tensorflow as tf\n",
        "from tensorflow import keras\n",
        "from tensorflow.keras import datasets, layers, models, optimizers\n",
        "from keras.models import Model\n",
        "from keras.callbacks import ModelCheckpoint\n",
        "from keras.models import load_model\n",
        "\n",
        "import numpy as np\n",
        "import pandas as pd\n",
        "\n",
        "#For resizing the images \n",
        "import cv2,glob\n",
        "from google.colab.patches import cv2_imshow\n",
        "\n",
        "#For face detection and cropping\n",
        "import pkg_resources\n",
        "\n",
        "#For sorting the images in order\n",
        "from tkinter import Tcl\n"
      ],
      "execution_count": 36,
      "outputs": []
    },
    {
      "cell_type": "markdown",
      "metadata": {
        "id": "QDz6W9pn_zqQ"
      },
      "source": [
        "## Loading the models and making predictions on unseen images"
      ]
    },
    {
      "cell_type": "code",
      "metadata": {
        "id": "ngG3Cygts2z_"
      },
      "source": [
        "# load the model for all the attributes\n",
        "model_wrinkles = load_model(\"/content/drive/MyDrive/model_wrinkles1\")\n",
        "model_freakles = load_model(\"/content/drive/MyDrive/model_freakles4\")\n",
        "model_glasses = load_model(\"/content/drive/MyDrive/model_glasses\")\n",
        "model_haircolor = load_model(\"/content/drive/MyDrive/model_haircolor3\")\n",
        "model_hairtop = load_model(\"/content/drive/MyDrive/model_hairtop\")\n",
        "\n",
        "#Unseen Images\n",
        "new_images = glob.glob('/content/drive/MyDrive/test_images/*jp*')\n",
        "\n",
        "#Images sorted\n",
        "new_images_sorted = Tcl().call('lsort', '-dict', new_images)\n",
        "image_name = []\n",
        "for image in new_images_sorted:\n",
        "  image_name.append(image.split('/')[-1])\n",
        "\n",
        "#Detecting and cropping face for wrinkles and freakles.\n",
        "new_test_images_binary = []\n",
        "\n",
        "for each_image in new_images:\n",
        "  image = cv2.imread(each_image)   \n",
        "  gray = cv2.cvtColor(image, cv2.COLOR_RGB2GRAY)\n",
        "  haar_xml = pkg_resources.resource_filename('cv2', 'data/haarcascade_frontalface_default.xml')\n",
        "  face_cascade = cv2.CascadeClassifier(haar_xml)\n",
        "  faces = face_cascade.detectMultiScale(gray, 1.25, 6)\n",
        "  if(len(faces) == 1):\n",
        "    for (x, y, w, h) in faces:\n",
        "      cv2.rectangle(image, (x, y), (x+w, y+h), (0, 0, 255), 2)\n",
        "      faces = image[y:y + h, x:x + w]\n",
        "      faces = cv2.resize(faces, (200, 200))\n",
        "      new_test_images_binary.append(faces)\n",
        "  else:\n",
        "    faces = cv2.resize(image, (200, 200))\n",
        "    new_test_images_binary.append(faces) \n",
        "\n",
        "#Not detecting the face for multi class classification as hair will not be cropped\n",
        "new_test_images_multi = []\n",
        "for each_image in new_images:\n",
        "  image = cv2.imread(each_image)\n",
        "  image = cv2.resize(image, (200, 200))\n",
        "  new_test_images_multi.append(image) \n",
        "\n",
        "df_binary = np.array(new_test_images_binary)\n",
        "df_multi = np.array(new_test_images_multi)\n",
        "\n",
        "#Making predictions\n",
        "y_pred1 = model_wrinkles.predict(df_binary)\n",
        "y_pred2 = model_freakles.predict(df_binary)\n",
        "y_pred3 = model_glasses.predict(df_multi)\n",
        "y_pred4 = model_haircolor.predict(df_multi)\n",
        "y_pred5 = model_hairtop.predict(df_multi)\n",
        "\n",
        "y_pred_wrinkles = np.argmax(y_pred1, axis=1)\n",
        "y_pred_freakles = np.argmax(y_pred2, axis=1)\n",
        "y_pred_glasses = np.argmax(y_pred3, axis=1)\n",
        "y_pred_haircolor = np.argmax(y_pred4, axis=1)\n",
        "y_pred_hairtop = np.argmax(y_pred5, axis=1)\n",
        "\n",
        "#print(y_pred_wrinkles, y_pred_freakles, y_pred_glasses, y_pred_haircolor, y_pred_hairtop)"
      ],
      "execution_count": null,
      "outputs": []
    },
    {
      "cell_type": "markdown",
      "metadata": {
        "id": "rv9Bz0dm_jgK"
      },
      "source": [
        "## Writing the predictions to a csv file"
      ]
    },
    {
      "cell_type": "code",
      "metadata": {
        "id": "JF-qisnYthpK"
      },
      "source": [
        "Result_df = pd.DataFrame()\n",
        "Result_df['image_name'] = image_name\n",
        "Result_df['wrinkles'] = y_pred_wrinkles\n",
        "Result_df['freakles'] = y_pred_freakles\n",
        "Result_df['glasses'] = y_pred_glasses\n",
        "Result_df['haircolor'] = y_pred_haircolor\n",
        "Result_df['hairtop'] = y_pred_hairtop\n",
        "\n",
        "Result_df.to_csv('/content/drive/MyDrive/Results.csv', index=0)\n"
      ],
      "execution_count": 38,
      "outputs": []
    }
  ]
}